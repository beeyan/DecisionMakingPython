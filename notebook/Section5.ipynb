{
 "cells": [
  {
   "cell_type": "code",
   "execution_count": 1,
   "id": "eaa32514-f16e-4582-aee8-3b45f8bbe3d3",
   "metadata": {},
   "outputs": [],
   "source": [
    "import numpy as np\n",
    "import pulp\n",
    "\n",
    "import matplotlib.pyplot as plt\n",
    "%matplotlib inline"
   ]
  },
  {
   "cell_type": "code",
   "execution_count": 2,
   "id": "4893d793-a4fa-4bc5-9d18-64d63e2f3f87",
   "metadata": {},
   "outputs": [
    {
     "name": "stdout",
     "output_type": "stream",
     "text": [
      "4.0\n",
      "0 110.0\n",
      "Welcome to the CBC MILP Solver \n",
      "Version: 2.10.3 \n",
      "Build Date: Dec 15 2019 \n",
      "\n",
      "command line - /home/studio-lab-user/.conda/envs/default/lib/python3.9/site-packages/pulp/solverdir/cbc/linux/64/cbc /tmp/183108fa9c014c1594307137fb13a0c3-pulp.mps timeMode elapsed branch printingOptions all solution /tmp/183108fa9c014c1594307137fb13a0c3-pulp.sol (default strategy 1)\n",
      "At line 2 NAME          MODEL\n",
      "At line 3 ROWS\n",
      "At line 10 COLUMNS\n",
      "At line 29 RHS\n",
      "At line 35 BOUNDS\n",
      "At line 36 ENDATA\n",
      "Problem MODEL has 5 rows, 6 columns and 12 elements\n",
      "Coin0008I MODEL read with 0 errors\n",
      "Option for timeMode changed from cpu to elapsed\n",
      "Presolve 2 (-3) rows, 3 (-3) columns and 6 (-6) elements\n",
      "0  Obj 5010 Primal inf 19.999999 (1) Dual inf 14.999999 (1)\n",
      "1  Obj 4890\n",
      "Optimal - objective value 4890\n",
      "After Postsolve, objective 4890, infeasibilities - dual 0 (0), primal 0 (0)\n",
      "Optimal objective 4890 - 1 iterations time 0.002, Presolve 0.00\n",
      "Option for printingOptions changed from normal to all\n",
      "Total time (CPU seconds):       0.00   (Wallclock seconds):       0.00\n",
      "\n",
      "Optimal\n",
      "1 114.0\n",
      "Welcome to the CBC MILP Solver \n",
      "Version: 2.10.3 \n",
      "Build Date: Dec 15 2019 \n",
      "\n",
      "command line - /home/studio-lab-user/.conda/envs/default/lib/python3.9/site-packages/pulp/solverdir/cbc/linux/64/cbc /tmp/bd0e79a77c8241909213bb93162e5b97-pulp.mps timeMode elapsed branch printingOptions all solution /tmp/bd0e79a77c8241909213bb93162e5b97-pulp.sol (default strategy 1)\n",
      "At line 2 NAME          MODEL\n",
      "At line 3 ROWS\n",
      "At line 10 COLUMNS\n",
      "At line 29 RHS\n",
      "At line 35 BOUNDS\n",
      "At line 36 ENDATA\n",
      "Problem MODEL has 5 rows, 6 columns and 12 elements\n",
      "Coin0008I MODEL read with 0 errors\n",
      "Option for timeMode changed from cpu to elapsed\n",
      "Presolve 2 (-3) rows, 3 (-3) columns and 6 (-6) elements\n",
      "0  Obj 5010 Primal inf 19.999999 (1) Dual inf 10.999999 (1)\n",
      "1  Obj 4930\n",
      "Optimal - objective value 4930\n",
      "After Postsolve, objective 4930, infeasibilities - dual 0 (0), primal 0 (0)\n",
      "Optimal objective 4930 - 1 iterations time 0.002, Presolve 0.00\n",
      "Option for printingOptions changed from normal to all\n",
      "Total time (CPU seconds):       0.00   (Wallclock seconds):       0.00\n",
      "\n",
      "Optimal\n",
      "2 118.0\n",
      "Welcome to the CBC MILP Solver \n",
      "Version: 2.10.3 \n",
      "Build Date: Dec 15 2019 \n",
      "\n",
      "command line - /home/studio-lab-user/.conda/envs/default/lib/python3.9/site-packages/pulp/solverdir/cbc/linux/64/cbc /tmp/d2a2512bf98a4f4c851fa61db57b4502-pulp.mps timeMode elapsed branch printingOptions all solution /tmp/d2a2512bf98a4f4c851fa61db57b4502-pulp.sol (default strategy 1)\n",
      "At line 2 NAME          MODEL\n",
      "At line 3 ROWS\n",
      "At line 10 COLUMNS\n",
      "At line 29 RHS\n",
      "At line 35 BOUNDS\n",
      "At line 36 ENDATA\n",
      "Problem MODEL has 5 rows, 6 columns and 12 elements\n",
      "Coin0008I MODEL read with 0 errors\n",
      "Option for timeMode changed from cpu to elapsed\n",
      "Presolve 2 (-3) rows, 3 (-3) columns and 6 (-6) elements\n",
      "0  Obj 5010 Primal inf 19.999999 (1) Dual inf 6.999999 (1)\n",
      "1  Obj 4970\n",
      "Optimal - objective value 4970\n",
      "After Postsolve, objective 4970, infeasibilities - dual 0 (0), primal 0 (0)\n",
      "Optimal objective 4970 - 1 iterations time 0.002, Presolve 0.00\n",
      "Option for printingOptions changed from normal to all\n",
      "Total time (CPU seconds):       0.00   (Wallclock seconds):       0.00\n",
      "\n",
      "Optimal\n",
      "3 122.0\n",
      "Welcome to the CBC MILP Solver \n",
      "Version: 2.10.3 \n",
      "Build Date: Dec 15 2019 \n",
      "\n",
      "command line - /home/studio-lab-user/.conda/envs/default/lib/python3.9/site-packages/pulp/solverdir/cbc/linux/64/cbc /tmp/2381482eeaf44ceda2b12b37fa3a52fd-pulp.mps timeMode elapsed branch printingOptions all solution /tmp/2381482eeaf44ceda2b12b37fa3a52fd-pulp.sol (default strategy 1)\n",
      "At line 2 NAME          MODEL\n",
      "At line 3 ROWS\n",
      "At line 10 COLUMNS\n",
      "At line 29 RHS\n",
      "At line 35 BOUNDS\n",
      "At line 36 ENDATA\n",
      "Problem MODEL has 5 rows, 6 columns and 12 elements\n",
      "Coin0008I MODEL read with 0 errors\n",
      "Option for timeMode changed from cpu to elapsed\n",
      "Presolve 2 (-3) rows, 3 (-3) columns and 6 (-6) elements\n",
      "0  Obj 5010 Primal inf 19.999999 (1) Dual inf 2.999999 (1)\n",
      "1  Obj 5010\n",
      "Optimal - objective value 5010\n",
      "After Postsolve, objective 5010, infeasibilities - dual 0 (0), primal 0 (0)\n",
      "Optimal objective 5010 - 1 iterations time 0.002, Presolve 0.00\n",
      "Option for printingOptions changed from normal to all\n",
      "Total time (CPU seconds):       0.00   (Wallclock seconds):       0.00\n",
      "\n",
      "Optimal\n",
      "4 126.0\n",
      "Welcome to the CBC MILP Solver \n",
      "Version: 2.10.3 \n",
      "Build Date: Dec 15 2019 \n",
      "\n",
      "command line - /home/studio-lab-user/.conda/envs/default/lib/python3.9/site-packages/pulp/solverdir/cbc/linux/64/cbc /tmp/6cb969afd6d64771b29b4bcbf554c2de-pulp.mps timeMode elapsed branch printingOptions all solution /tmp/6cb969afd6d64771b29b4bcbf554c2de-pulp.sol (default strategy 1)\n",
      "At line 2 NAME          MODEL\n",
      "At line 3 ROWS\n",
      "At line 10 COLUMNS\n",
      "At line 29 RHS\n",
      "At line 35 BOUNDS\n",
      "At line 36 ENDATA\n",
      "Problem MODEL has 5 rows, 6 columns and 12 elements\n",
      "Coin0008I MODEL read with 0 errors\n",
      "Option for timeMode changed from cpu to elapsed\n",
      "Presolve 2 (-3) rows, 3 (-3) columns and 6 (-6) elements\n",
      "0  Obj 5010 Primal inf 19.999999 (1)\n",
      "1  Obj 5050\n",
      "Optimal - objective value 5050\n",
      "After Postsolve, objective 5050, infeasibilities - dual 0 (0), primal 0 (0)\n",
      "Optimal objective 5050 - 1 iterations time 0.002, Presolve 0.00\n",
      "Option for printingOptions changed from normal to all\n",
      "Total time (CPU seconds):       0.00   (Wallclock seconds):       0.00\n",
      "\n",
      "Optimal\n",
      "5 130.0\n",
      "Welcome to the CBC MILP Solver \n",
      "Version: 2.10.3 \n",
      "Build Date: Dec 15 2019 \n",
      "\n",
      "command line - /home/studio-lab-user/.conda/envs/default/lib/python3.9/site-packages/pulp/solverdir/cbc/linux/64/cbc /tmp/8e7c3a58cb8d402580d4a0f2fd2586dc-pulp.mps timeMode elapsed branch printingOptions all solution /tmp/8e7c3a58cb8d402580d4a0f2fd2586dc-pulp.sol (default strategy 1)\n",
      "At line 2 NAME          MODEL\n",
      "At line 3 ROWS\n",
      "At line 10 COLUMNS\n",
      "At line 29 RHS\n",
      "At line 35 BOUNDS\n",
      "At line 36 ENDATA\n",
      "Problem MODEL has 5 rows, 6 columns and 12 elements\n",
      "Coin0008I MODEL read with 0 errors\n",
      "Option for timeMode changed from cpu to elapsed\n",
      "Presolve 2 (-3) rows, 3 (-3) columns and 6 (-6) elements\n",
      "0  Obj 5010 Primal inf 19.999999 (1)\n",
      "1  Obj 5082\n",
      "Optimal - objective value 5082\n",
      "After Postsolve, objective 5082, infeasibilities - dual 0 (0), primal 0 (0)\n",
      "Optimal objective 5082 - 1 iterations time 0.002, Presolve 0.00\n",
      "Option for printingOptions changed from normal to all\n",
      "Total time (CPU seconds):       0.00   (Wallclock seconds):       0.00\n",
      "\n",
      "Optimal\n",
      "6 134.0\n",
      "Welcome to the CBC MILP Solver \n",
      "Version: 2.10.3 \n",
      "Build Date: Dec 15 2019 \n",
      "\n",
      "command line - /home/studio-lab-user/.conda/envs/default/lib/python3.9/site-packages/pulp/solverdir/cbc/linux/64/cbc /tmp/928994f0faad437dba94b2e6e0fb92ee-pulp.mps timeMode elapsed branch printingOptions all solution /tmp/928994f0faad437dba94b2e6e0fb92ee-pulp.sol (default strategy 1)\n",
      "At line 2 NAME          MODEL\n",
      "At line 3 ROWS\n",
      "At line 10 COLUMNS\n",
      "At line 29 RHS\n",
      "At line 35 BOUNDS\n",
      "At line 36 ENDATA\n",
      "Problem MODEL has 5 rows, 6 columns and 12 elements\n",
      "Coin0008I MODEL read with 0 errors\n",
      "Option for timeMode changed from cpu to elapsed\n",
      "Presolve 2 (-3) rows, 3 (-3) columns and 6 (-6) elements\n",
      "0  Obj 5010 Primal inf 19.999999 (1)\n",
      "1  Obj 5082\n",
      "Optimal - objective value 5082\n",
      "After Postsolve, objective 5082, infeasibilities - dual 0 (0), primal 0 (0)\n",
      "Optimal objective 5082 - 1 iterations time 0.002, Presolve 0.00\n",
      "Option for printingOptions changed from normal to all\n",
      "Total time (CPU seconds):       0.00   (Wallclock seconds):       0.00\n",
      "\n",
      "Optimal\n",
      "7 138.0\n",
      "Welcome to the CBC MILP Solver \n",
      "Version: 2.10.3 \n",
      "Build Date: Dec 15 2019 \n",
      "\n",
      "command line - /home/studio-lab-user/.conda/envs/default/lib/python3.9/site-packages/pulp/solverdir/cbc/linux/64/cbc /tmp/aa4499ac590f453abe92aa53a1d3a65c-pulp.mps timeMode elapsed branch printingOptions all solution /tmp/aa4499ac590f453abe92aa53a1d3a65c-pulp.sol (default strategy 1)\n",
      "At line 2 NAME          MODEL\n",
      "At line 3 ROWS\n",
      "At line 10 COLUMNS\n",
      "At line 29 RHS\n",
      "At line 35 BOUNDS\n",
      "At line 36 ENDATA\n",
      "Problem MODEL has 5 rows, 6 columns and 12 elements\n",
      "Coin0008I MODEL read with 0 errors\n",
      "Option for timeMode changed from cpu to elapsed\n",
      "Presolve 2 (-3) rows, 3 (-3) columns and 6 (-6) elements\n",
      "0  Obj 5010 Primal inf 19.999999 (1)\n",
      "1  Obj 5082\n",
      "Optimal - objective value 5082\n",
      "After Postsolve, objective 5082, infeasibilities - dual 0 (0), primal 0 (0)\n",
      "Optimal objective 5082 - 1 iterations time 0.002, Presolve 0.00\n",
      "Option for printingOptions changed from normal to all\n",
      "Total time (CPU seconds):       0.00   (Wallclock seconds):       0.00\n",
      "\n",
      "Optimal\n",
      "8 142.0\n",
      "Welcome to the CBC MILP Solver \n",
      "Version: 2.10.3 \n",
      "Build Date: Dec 15 2019 \n",
      "\n",
      "command line - /home/studio-lab-user/.conda/envs/default/lib/python3.9/site-packages/pulp/solverdir/cbc/linux/64/cbc /tmp/a1332b42537c41d386793283e5dc5ea3-pulp.mps timeMode elapsed branch printingOptions all solution /tmp/a1332b42537c41d386793283e5dc5ea3-pulp.sol (default strategy 1)\n",
      "At line 2 NAME          MODEL\n",
      "At line 3 ROWS\n",
      "At line 10 COLUMNS\n",
      "At line 29 RHS\n",
      "At line 35 BOUNDS\n",
      "At line 36 ENDATA\n",
      "Problem MODEL has 5 rows, 6 columns and 12 elements\n",
      "Coin0008I MODEL read with 0 errors\n",
      "Option for timeMode changed from cpu to elapsed\n",
      "Presolve 2 (-3) rows, 3 (-3) columns and 6 (-6) elements\n",
      "0  Obj 5010 Primal inf 19.999999 (1)\n",
      "1  Obj 5082\n",
      "Optimal - objective value 5082\n",
      "After Postsolve, objective 5082, infeasibilities - dual 0 (0), primal 0 (0)\n",
      "Optimal objective 5082 - 1 iterations time 0.002, Presolve 0.00\n",
      "Option for printingOptions changed from normal to all\n",
      "Total time (CPU seconds):       0.00   (Wallclock seconds):       0.00\n",
      "\n",
      "Optimal\n",
      "9 146.0\n",
      "Welcome to the CBC MILP Solver \n",
      "Version: 2.10.3 \n",
      "Build Date: Dec 15 2019 \n",
      "\n",
      "command line - /home/studio-lab-user/.conda/envs/default/lib/python3.9/site-packages/pulp/solverdir/cbc/linux/64/cbc /tmp/43162a4d85cf46398d99b17ef183429a-pulp.mps timeMode elapsed branch printingOptions all solution /tmp/43162a4d85cf46398d99b17ef183429a-pulp.sol (default strategy 1)\n",
      "At line 2 NAME          MODEL\n",
      "At line 3 ROWS\n",
      "At line 10 COLUMNS\n",
      "At line 29 RHS\n",
      "At line 35 BOUNDS\n",
      "At line 36 ENDATA\n",
      "Problem MODEL has 5 rows, 6 columns and 12 elements\n",
      "Coin0008I MODEL read with 0 errors\n",
      "Option for timeMode changed from cpu to elapsed\n",
      "Presolve 2 (-3) rows, 3 (-3) columns and 6 (-6) elements\n",
      "0  Obj 5010 Primal inf 19.999999 (1)\n",
      "1  Obj 5082\n",
      "Optimal - objective value 5082\n",
      "After Postsolve, objective 5082, infeasibilities - dual 0 (0), primal 0 (0)\n",
      "Optimal objective 5082 - 1 iterations time 0.002, Presolve 0.00\n",
      "Option for printingOptions changed from normal to all\n",
      "Total time (CPU seconds):       0.00   (Wallclock seconds):       0.00\n",
      "\n",
      "Optimal\n",
      "10 150.0\n",
      "Welcome to the CBC MILP Solver \n",
      "Version: 2.10.3 \n",
      "Build Date: Dec 15 2019 \n",
      "\n",
      "command line - /home/studio-lab-user/.conda/envs/default/lib/python3.9/site-packages/pulp/solverdir/cbc/linux/64/cbc /tmp/3d164e3ad47944e8a1a1b470280be1e9-pulp.mps timeMode elapsed branch printingOptions all solution /tmp/3d164e3ad47944e8a1a1b470280be1e9-pulp.sol (default strategy 1)\n",
      "At line 2 NAME          MODEL\n",
      "At line 3 ROWS\n",
      "At line 10 COLUMNS\n",
      "At line 29 RHS\n",
      "At line 35 BOUNDS\n",
      "At line 36 ENDATA\n",
      "Problem MODEL has 5 rows, 6 columns and 12 elements\n",
      "Coin0008I MODEL read with 0 errors\n",
      "Option for timeMode changed from cpu to elapsed\n",
      "Presolve 2 (-3) rows, 3 (-3) columns and 6 (-6) elements\n",
      "0  Obj 5010 Primal inf 19.999999 (1)\n",
      "1  Obj 5082\n",
      "Optimal - objective value 5082\n",
      "After Postsolve, objective 5082, infeasibilities - dual 0 (0), primal 0 (0)\n",
      "Optimal objective 5082 - 1 iterations time 0.002, Presolve 0.00\n",
      "Option for printingOptions changed from normal to all\n",
      "Total time (CPU seconds):       0.00   (Wallclock seconds):       0.00\n",
      "\n",
      "Optimal\n",
      "[[1.100e+02 1.140e+02 1.180e+02 1.220e+02 1.260e+02 1.300e+02 1.340e+02\n",
      "  1.380e+02 1.420e+02 1.460e+02 1.500e+02]\n",
      " [0.000e+00 0.000e+00 0.000e+00 0.000e+00 0.000e+00 6.000e+00 6.000e+00\n",
      "  6.000e+00 6.000e+00 6.000e+00 6.000e+00]\n",
      " [1.000e+01 1.000e+01 1.000e+01 1.000e+01 1.000e+01 1.400e+01 1.400e+01\n",
      "  1.400e+01 1.400e+01 1.400e+01 1.400e+01]\n",
      " [1.000e+01 1.000e+01 1.000e+01 1.000e+01 1.000e+01 0.000e+00 0.000e+00\n",
      "  0.000e+00 0.000e+00 0.000e+00 0.000e+00]\n",
      " [1.800e+01 1.800e+01 1.800e+01 1.800e+01 1.800e+01 1.200e+01 1.200e+01\n",
      "  1.200e+01 1.200e+01 1.200e+01 1.200e+01]\n",
      " [4.000e+00 4.000e+00 4.000e+00 4.000e+00 4.000e+00 0.000e+00 0.000e+00\n",
      "  0.000e+00 0.000e+00 0.000e+00 0.000e+00]\n",
      " [0.000e+00 0.000e+00 0.000e+00 0.000e+00 0.000e+00 1.000e+01 1.000e+01\n",
      "  1.000e+01 1.000e+01 1.000e+01 1.000e+01]\n",
      " [4.890e+03 4.930e+03 4.970e+03 5.010e+03 5.050e+03 5.082e+03 5.082e+03\n",
      "  5.082e+03 5.082e+03 5.082e+03 5.082e+03]]\n",
      "Mixture:\n",
      "MINIMIZE\n",
      "140*x1 + 98*x2 + 150.0*x3 + 135*x4 + 95*x5 + 125*x6 + 0.0\n",
      "SUBJECT TO\n",
      "_C1: x1 + x4 = 18\n",
      "\n",
      "_C2: x2 + x5 = 14\n",
      "\n",
      "_C3: x3 + x6 = 10\n",
      "\n",
      "_C4: x1 + x2 + x3 <= 20\n",
      "\n",
      "_C5: x4 + x5 + x6 <= 22\n",
      "\n",
      "VARIABLES\n",
      "x1 Continuous\n",
      "x2 Continuous\n",
      "x3 Continuous\n",
      "x4 Continuous\n",
      "x5 Continuous\n",
      "x6 Continuous\n",
      "\n"
     ]
    }
   ],
   "source": [
    "wFrom, wTo = 110.0, 150.0\n",
    "nStep = 10\n",
    "stepSize = (wTo - wFrom)/nStep\n",
    "\n",
    "print(stepSize)\n",
    "\n",
    "record = np.zeros((8,nStep+1)) #record results\n",
    "\n",
    "for i in range(0, nStep+1):\n",
    "    w3 = wFrom + stepSize*i\n",
    "    print(i,w3)\n",
    "    prob = pulp.LpProblem(\"Mixture\", pulp.LpMinimize)\n",
    "    x1 = pulp.LpVariable(\"x1\", 0, None)\n",
    "    x2 = pulp.LpVariable(\"x2\", 0, None)\n",
    "    x3 = pulp.LpVariable(\"x3\", 0, None)\n",
    "    x4 = pulp.LpVariable(\"x4\", 0, None)\n",
    "    x5 = pulp.LpVariable(\"x5\", 0, None)\n",
    "    x6 = pulp.LpVariable(\"x6\", 0, None)\n",
    "\n",
    "    prob += x1 + x4 == 18\n",
    "    prob += x2 + x5 == 14\n",
    "    prob += x3 + x6 == 10\n",
    "    prob += x1 + x2 + x3 <= 20\n",
    "    prob += x4 + x5 + x6 <= 22\n",
    "    prob += 140*x1 + 98*x2 + w3*x3 + 135*x4 + 95*x5 + 125*x6\n",
    "    \n",
    "    sol = prob.solve()\n",
    "    print(pulp.LpStatus[sol]) # 毎回，解けたか否かの確認\n",
    "    record[0][i] = w3\n",
    "    record[1][i] = x1.value()\n",
    "    record[2][i] = x2.value()\n",
    "    record[3][i] = x3.value()\n",
    "    record[4][i] = x4.value()\n",
    "    record[5][i] = x5.value()\n",
    "    record[6][i] = x6.value()\n",
    "    record[7][i] = prob.objective.value()\n",
    "\n",
    "print(record)\n",
    "print(prob)"
   ]
  },
  {
   "cell_type": "code",
   "execution_count": 3,
   "id": "ec7fc874-d9ad-4b90-b9c3-5270718c8c31",
   "metadata": {},
   "outputs": [
    {
     "data": {
      "image/png": "[encoded data removed]",
      "text/plain": [
       "<Figure size 504x288 with 1 Axes>"
      ]
     },
     "metadata": {
      "needs_background": "light"
     },
     "output_type": "display_data"
    }
   ],
   "source": [
    "fig = plt.subplots(figsize=(7,4))\n",
    "plt.plot(record[0], record[7], marker='o')\n",
    "plt.xlabel('w3', fontsize=18)\n",
    "plt.ylabel('value of objective function', fontsize=18)\n",
    "plt.grid()\n",
    "#plt.savefig('fig_OR_LP_Pareto.pdf')\n",
    "plt.show()"
   ]
  },
  {
   "cell_type": "markdown",
   "id": "51bb6e05-348f-451f-9e53-0e2ebb61b363",
   "metadata": {},
   "source": [
    "### AHP"
   ]
  },
  {
   "cell_type": "code",
   "execution_count": 4,
   "id": "4ccfd196-f232-40cf-a1b1-6624a6ed5069",
   "metadata": {},
   "outputs": [],
   "source": [
    "L = 4\n",
    "matPc = np.array( [[1, 7, 1/3, 3], [1/7, 1, 1/5, 1/3], [3, 5, 1, 7], [1/3, 3, 1/7, 1]])\n",
    "M = 3\n",
    "matP1 = np.array( [[1, 1, 1/3], [1, 1, 1/5], [3, 5, 1]])\n",
    "matP2 = np.array( [[1, 3, 7], [1/3, 1, 5], [1/7, 1/5, 1]])\n",
    "matP3 = np.array( [[1, 5, 9], [1/5, 1, 5], [1/9, 1/5, 1]])\n",
    "matP4 = np.array( [[1, 1/5, 3], [5, 1, 7], [1/3, 1/7, 1]])\n",
    "matP = np.array([matP1, matP2, matP3, matP4]) "
   ]
  },
  {
   "cell_type": "code",
   "execution_count": 5,
   "id": "e3dc23be-a30f-4ab7-bd8e-95d1dc0ff0c2",
   "metadata": {},
   "outputs": [],
   "source": [
    "def getWeightVecEigen(mat):\n",
    "    eig_val, eig_vec = np.linalg.eig(mat)\n",
    "    abs_eig_val = np.abs(eig_val)  # In case of complex number\n",
    "    idx = np.argmax(abs_eig_val)   # max eigenvalue\n",
    "    max_eig_val = abs_eig_val[idx]\n",
    "    abs_v = np.abs(eig_vec[:,idx]) # \n",
    "    return max_eig_val, abs_v/abs_v.sum()      # Normalization so that the sum is one."
   ]
  },
  {
   "cell_type": "code",
   "execution_count": 6,
   "id": "861f6645-869b-407f-a606-0b6bae5af5ad",
   "metadata": {},
   "outputs": [
    {
     "name": "stdout",
     "output_type": "stream",
     "text": [
      "max of eigen value : 4.27565830543173\n",
      "its eigen vector: [0.27515837 0.0570393  0.56300898 0.10479335]\n"
     ]
    }
   ],
   "source": [
    "eigvmax_c, v_c = getWeightVecEigen(matPc)\n",
    "print(\"max of eigen value :\",eigvmax_c)\n",
    "print(\"its eigen vector:\", v_c)"
   ]
  },
  {
   "cell_type": "code",
   "execution_count": 7,
   "id": "91ccf845-8f09-40ae-9e58-a53926506632",
   "metadata": {},
   "outputs": [
    {
     "name": "stdout",
     "output_type": "stream",
     "text": [
      "CI_c= 0.09188610181057655\n"
     ]
    }
   ],
   "source": [
    "CI_c = (eigvmax_c - L)/(L-1)\n",
    "print(\"CI_c=\",CI_c)"
   ]
  },
  {
   "cell_type": "code",
   "execution_count": 8,
   "id": "10ec167e-9bbf-43ef-a7ae-1cd869246fb0",
   "metadata": {},
   "outputs": [
    {
     "data": {
      "image/png": "[encoded data removed]",
      "text/plain": [
       "<Figure size 432x216 with 1 Axes>"
      ]
     },
     "metadata": {
      "needs_background": "light"
     },
     "output_type": "display_data"
    }
   ],
   "source": [
    "fig = plt.subplots(figsize=(6,3))\n",
    "xtic = list(range(1,L+1))\n",
    "plt.bar(x=xtic, height=v_c, width=0.3, color=\"b\")\n",
    "plt.xticks(xtic)\n",
    "plt.xlabel('Criteria c_i', size=15)\n",
    "plt.ylabel('Weight', size=15)\n",
    "plt.grid()\n",
    "#plt.savefig('fig_OR_AHP_Eigen_Weight_01.pdf', bbox_inches='tight')\n",
    "plt.show()"
   ]
  },
  {
   "cell_type": "code",
   "execution_count": 9,
   "id": "7f4eeb07-af9f-45cb-a03b-65981b91f654",
   "metadata": {},
   "outputs": [
    {
     "name": "stdout",
     "output_type": "stream",
     "text": [
      "CI= 0.014531883399219403  max_eig_val= 3.029063766798439\n",
      "CI= 0.032443789936409395  max_eig_val= 3.064887579872819\n",
      "CI= 0.05854988486713064  max_eig_val= 3.1170997697342613\n",
      "CI= 0.03244378993640895  max_eig_val= 3.064887579872818\n"
     ]
    },
    {
     "data": {
      "text/plain": [
       "array([[0.18517401, 0.649118  , 0.73519341, 0.1883941 ],\n",
       "       [0.15618181, 0.27895457, 0.20669538, 0.73064467],\n",
       "       [0.65864419, 0.07192743, 0.05811121, 0.08096123]])"
      ]
     },
     "execution_count": 9,
     "metadata": {},
     "output_type": "execute_result"
    }
   ],
   "source": [
    "v = np.zeros((L, M))\n",
    "max_eigv = np.zeros(L)\n",
    "for i in range(L):\n",
    "    max_eigv[i], v[i] = getWeightVecEigen(matP[i])\n",
    "    CI = (max_eigv[i] - M)/(M-1)\n",
    "    print(\"CI=\",CI, \" max_eig_val=\",max_eigv[i])\n",
    "\n",
    "matW = v.T\n",
    "matW"
   ]
  },
  {
   "cell_type": "code",
   "execution_count": 10,
   "id": "9e69061f-0507-40af-951f-bfed995bb750",
   "metadata": {},
   "outputs": [
    {
     "data": {
      "text/plain": [
       "array([0.18517401, 0.649118  , 0.73519341, 0.1883941 ])"
      ]
     },
     "execution_count": 10,
     "metadata": {},
     "output_type": "execute_result"
    }
   ],
   "source": [
    "matW[0]"
   ]
  },
  {
   "cell_type": "code",
   "execution_count": 11,
   "id": "97e68233-21f9-4f20-b6dd-5fc06d2a8a6e",
   "metadata": {},
   "outputs": [
    {
     "data": {
      "image/png": "[encoded data removed]",
      "text/plain": [
       "<Figure size 576x288 with 1 Axes>"
      ]
     },
     "metadata": {
      "needs_background": "light"
     },
     "output_type": "display_data"
    }
   ],
   "source": [
    "fig = plt.subplots(figsize=(8,4))\n",
    "#x_1, x_2, x_3は棒グラフを並べてプロットするための棒グラフの位置\n",
    "x_1 = [0.85, 0.95, 1.05, 1.15]\n",
    "x_2 = [1.85, 1.95, 2.05, 2.15]\n",
    "x_3 = [2.85, 2.95, 3.05, 3.15]\n",
    "\n",
    "colors=[\"silver\", \"orangered\", \"royalblue\", \"lime\"]\n",
    "labels=[\"c1\", \"c2\", \"c3\", \"c4\"]\n",
    "xtic = list(range(1,M+1))\n",
    "\n",
    "plt.bar(x=x_1, height=matW[0], width=0.1, color=colors, edgecolor=\"black\")\n",
    "plt.bar(x=x_2, height=matW[1], width=0.1, color=colors, edgecolor=\"black\")\n",
    "plt.bar(x=x_3, height=matW[2], width=0.1, color=colors, edgecolor=\"black\")\n",
    "plt.xticks(xtic)\n",
    "plt.xlabel('Alternatives A_i', size=15)\n",
    "plt.ylabel('Weight', size=15)\n",
    "#plt.savefig('fig_OR_AHP_Eigen_Weight_02.pdf', bbox_inches='tight')\n",
    "plt.grid()"
   ]
  },
  {
   "cell_type": "code",
   "execution_count": 12,
   "id": "0a4be7e5-d7d0-4560-8b3d-9c54c54aef36",
   "metadata": {},
   "outputs": [
    {
     "name": "stdout",
     "output_type": "stream",
     "text": [
      "a= [0.52164036 0.25182416 0.22653548]\n"
     ]
    }
   ],
   "source": [
    "a = np.dot(matW, v_c)\n",
    "print(\"a=\",a)"
   ]
  },
  {
   "cell_type": "code",
   "execution_count": 13,
   "id": "9a09b4d1-ec55-4277-a6d3-5c5fe3af8c04",
   "metadata": {},
   "outputs": [
    {
     "data": {
      "image/png": "[encoded data removed]",
      "text/plain": [
       "<Figure size 432x216 with 1 Axes>"
      ]
     },
     "metadata": {
      "needs_background": "light"
     },
     "output_type": "display_data"
    }
   ],
   "source": [
    "fig = plt.subplots(figsize=(6,3))\n",
    "xtic = list(range(1,M+1))\n",
    "plt.bar(x=xtic, height=a, width=0.3, color=\"cyan\", edgecolor=\"black\")\n",
    "plt.xticks(xtic)\n",
    "plt.xlabel('Alternatives A_i', size=15)\n",
    "plt.ylabel('Total Score', size=15)\n",
    "plt.grid()\n",
    "#plt.savefig('fig_OR_AHP_Eigen_Weight_03.pdf', bbox_inches='tight')\n",
    "plt.show()"
   ]
  },
  {
   "cell_type": "code",
   "execution_count": null,
   "id": "5b2de54a-5741-41c0-9464-9afcd8336805",
   "metadata": {},
   "outputs": [],
   "source": []
  }
 ],
 "metadata": {
  "kernelspec": {
   "display_name": "default:Python",
   "language": "python",
   "name": "conda-env-default-py"
  },
  "language_info": {
   "codemirror_mode": {
    "name": "ipython",
    "version": 3
   },
   "file_extension": ".py",
   "mimetype": "text/x-python",
   "name": "python",
   "nbconvert_exporter": "python",
   "pygments_lexer": "ipython3",
   "version": "3.9.7"
  }
 },
 "nbformat": 4,
 "nbformat_minor": 5
}
